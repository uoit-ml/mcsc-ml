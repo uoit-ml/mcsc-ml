{
 "cells": [
  {
   "cell_type": "code",
   "execution_count": 2,
   "metadata": {
    "collapsed": false
   },
   "outputs": [],
   "source": [
    "import numpy as np"
   ]
  },
  {
   "cell_type": "markdown",
   "metadata": {},
   "source": [
    "# np.linspace"
   ]
  },
  {
   "cell_type": "code",
   "execution_count": 5,
   "metadata": {
    "collapsed": false
   },
   "outputs": [
    {
     "name": "stdout",
     "output_type": "stream",
     "text": [
      "[ 0.          0.11111111  0.22222222  0.33333333  0.44444444  0.55555556\n",
      "  0.66666667  0.77777778  0.88888889  1.        ]\n"
     ]
    }
   ],
   "source": [
    "x = np.linspace(0,1,10)\n",
    "print x"
   ]
  },
  {
   "cell_type": "markdown",
   "metadata": {},
   "source": [
    "# np.meshgrid"
   ]
  },
  {
   "cell_type": "code",
   "execution_count": 7,
   "metadata": {
    "collapsed": false
   },
   "outputs": [
    {
     "name": "stdout",
     "output_type": "stream",
     "text": [
      "xv= [[-1  0  1]\n",
      " [-1  0  1]\n",
      " [-1  0  1]]\n",
      "yv= [[-4 -4 -4]\n",
      " [-3 -3 -3]\n",
      " [-2 -2 -2]]\n"
     ]
    }
   ],
   "source": [
    "x = [-1,0,1]\n",
    "y = [-4,-3,-2]\n",
    "xv, yv = np.meshgrid(x,y)\n",
    "print 'xv=', xv\n",
    "print 'yv=', yv"
   ]
  },
  {
   "cell_type": "markdown",
   "metadata": {},
   "source": [
    "# np.ravel"
   ]
  },
  {
   "cell_type": "code",
   "execution_count": 12,
   "metadata": {
    "collapsed": false
   },
   "outputs": [
    {
     "name": "stdout",
     "output_type": "stream",
     "text": [
      "C order [1 2 3 4 5 6 7 8 9]\n",
      "F order [1 4 7 2 5 8 3 6 9]\n",
      "A order [1 2 3 4 5 6 7 8 9]\n",
      "K order [1 2 3 4 5 6 7 8 9]\n"
     ]
    }
   ],
   "source": [
    "m = [[1,2,3],[4,5,6],[7,8,9]]\n",
    "\n",
    "print 'C order', np.ravel(m, order='C')\n",
    "print 'F order', np.ravel(m, order='F')\n",
    "print 'A order', np.ravel(m, order='A')\n",
    "print 'K order', np.ravel(m, order='K')"
   ]
  },
  {
   "cell_type": "markdown",
   "metadata": {},
   "source": [
    "Using np.meshgrid with np.ravel to create a grid"
   ]
  },
  {
   "cell_type": "code",
   "execution_count": 21,
   "metadata": {
    "collapsed": false
   },
   "outputs": [
    {
     "name": "stdout",
     "output_type": "stream",
     "text": [
      "[[-1  0  1 -1  0  1 -1  0  1]\n",
      " [-4 -4 -4 -3 -3 -3 -2 -2 -2]]\n",
      "X_grid.shape (2, 9)\n"
     ]
    }
   ],
   "source": [
    "X_grid = np.array([np.ravel(xv), np.ravel(yv)])\n",
    "print X_grid\n",
    "print 'X_grid.shape', X_grid.shape"
   ]
  },
  {
   "cell_type": "code",
   "execution_count": null,
   "metadata": {
    "collapsed": true
   },
   "outputs": [],
   "source": []
  }
 ],
 "metadata": {
  "kernelspec": {
   "display_name": "Python 2",
   "language": "python",
   "name": "python2"
  },
  "language_info": {
   "codemirror_mode": {
    "name": "ipython",
    "version": 2
   },
   "file_extension": ".py",
   "mimetype": "text/x-python",
   "name": "python",
   "nbconvert_exporter": "python",
   "pygments_lexer": "ipython2",
   "version": "2.7.12"
  }
 },
 "nbformat": 4,
 "nbformat_minor": 0
}
