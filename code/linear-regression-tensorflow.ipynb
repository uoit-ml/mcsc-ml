{
 "cells": [
  {
   "cell_type": "code",
   "execution_count": 1,
   "metadata": {
    "collapsed": true
   },
   "outputs": [],
   "source": [
    "import numpy as np\n",
    "import matplotlib.pyplot as plt\n",
    "%matplotlib inline\n",
    "import time\n",
    "import pylab as pl\n",
    "from IPython import display"
   ]
  },
  {
   "cell_type": "code",
   "execution_count": 2,
   "metadata": {
    "collapsed": true
   },
   "outputs": [],
   "source": [
    "def gen_1d_regression_data(n=40, xstart=5, xend=10, m=.5, c=2, mu=0, sigma=.4):\n",
    "    x = np.linspace(xstart, xend, n)\n",
    "    y = m * x + c + np.random.normal(mu, sigma, n)\n",
    "    return x, y\n",
    "\n",
    "def draw_line(n=40, xstart=5, xend=10, m=.5, c=2,):\n",
    "    x = np.linspace(xstart, xend, n)\n",
    "    y = m * x + c\n",
    "    return x, y   "
   ]
  },
  {
   "cell_type": "markdown",
   "metadata": {},
   "source": [
    "# Generating data for linear regression"
   ]
  },
  {
   "cell_type": "code",
   "execution_count": 3,
   "metadata": {
    "scrolled": true
   },
   "outputs": [
    {
     "data": {
      "text/plain": [
       "<matplotlib.collections.PathCollection at 0x10dd13810>"
      ]
     },
     "execution_count": 3,
     "metadata": {},
     "output_type": "execute_result"
    },
    {
     "data": {
      "image/png": "[encoded data removed]",
      "text/plain": [
       "<matplotlib.figure.Figure at 0x10ddb3b90>"
      ]
     },
     "metadata": {},
     "output_type": "display_data"
    }
   ],
   "source": [
    "np.random.seed(0)\n",
    "\n",
    "n = 50\n",
    "X_data, y_data = gen_1d_regression_data(n=n, sigma=.78, xstart=3, xend=13)\n",
    "\n",
    "plt.title('Data')\n",
    "plt.xlabel('x')\n",
    "plt.ylabel('y')\n",
    "plt.axis([0,15,0,16])\n",
    "plt.scatter(X_data, y_data)"
   ]
  },
  {
   "cell_type": "markdown",
   "metadata": {},
   "source": [
    "# Linear regression using tensorflow"
   ]
  },
  {
   "cell_type": "code",
   "execution_count": 4,
   "metadata": {},
   "outputs": [
    {
     "name": "stdout",
     "output_type": "stream",
     "text": [
      "0 total_loss [12.946139] W [[ 0.20376544]] b [ 1.01828611]\n",
      "1000 total_loss [0.86452842] W [[ 0.50424731]] b [ 1.78319025]\n",
      "2000 total_loss [0.78946239] W [[ 0.50058252]] b [ 2.2377336]\n",
      "3000 total_loss [0.73020667] W [[ 0.42114219]] b [ 2.50350213]\n",
      "4000 total_loss [0.67614704] W [[ 0.42351037]] b [ 2.69370556]\n",
      "5000 total_loss [0.67149431] W [[ 0.4068312]] b [ 2.79636788]\n",
      "6000 total_loss [0.69646686] W [[ 0.42429942]] b [ 2.85887074]\n",
      "7000 total_loss [0.66776282] W [[ 0.39323944]] b [ 2.91794038]\n",
      "8000 total_loss [0.72685766] W [[ 0.42280814]] b [ 2.95496726]\n",
      "9000 total_loss [0.66652632] W [[ 0.39540151]] b [ 2.97275615]\n",
      "10000 total_loss [0.67120159] W [[ 0.38079318]] b [ 2.9931941]\n",
      "11000 total_loss [0.69884109] W [[ 0.36963797]] b [ 2.98015904]\n",
      "12000 total_loss [0.66620135] W [[ 0.38712913]] b [ 2.98882771]\n",
      "13000 total_loss [0.66560191] W [[ 0.38957906]] b [ 2.98741603]\n",
      "14000 total_loss [0.70673174] W [[ 0.36713549]] b [ 2.9810586]\n",
      "15000 total_loss [0.66816121] W [[ 0.38550892]] b [ 2.97632384]\n",
      "16000 total_loss [0.69402903] W [[ 0.37207308]] b [ 2.9727242]\n",
      "17000 total_loss [0.66754669] W [[ 0.38428864]] b [ 2.99404263]\n",
      "18000 total_loss [0.66562194] W [[ 0.39045072]] b [ 2.99305773]\n"
     ]
    }
   ],
   "source": [
    "import tensorflow as tf\n",
    "\n",
    "tf.reset_default_graph()\n",
    "\n",
    "n_samples = n\n",
    "batch_size = 10\n",
    "\n",
    "X_data = np.reshape(X_data, (n_samples, 1)) # n_samples, 1-dimensional features\n",
    "y_data = np.reshape(y_data, (n_samples, 1)) # n_samples, target values\n",
    "\n",
    "X = tf.placeholder(tf.float32, shape=(None,1))\n",
    "y = tf.placeholder(tf.float32, shape=(None,1))\n",
    "\n",
    "with tf.variable_scope(\"linear-regression\", reuse=False):\n",
    "    W = tf.get_variable(\"weights\", (1,1), initializer=tf.random_normal_initializer())\n",
    "    b = tf.get_variable(\"bias\", (1,), initializer=tf.constant_initializer(1.0))\n",
    "    \n",
    "    y_pred = tf.add(tf.matmul(X, W),b)\n",
    "    loss = tf.reduce_sum((y - y_pred)**2/n_samples)\n",
    "    \n",
    "    opt = tf.train.GradientDescentOptimizer(learning_rate=0.01).minimize(loss)\n",
    "    \n",
    "    with tf.Session() as sess:        \n",
    "        sess.run(tf.global_variables_initializer())\n",
    "        \n",
    "        for iter in range(18500):\n",
    "            indices = np.random.choice(n_samples, batch_size)\n",
    "            X_batch, y_batch = X_data[indices], y_data[indices]\n",
    "            _, loss_val = sess.run([opt, loss], feed_dict={X: X_batch, y: y_batch})\n",
    "            \n",
    "            total_loss = sess.run([loss], feed_dict={X: X_data, y: y_data})\n",
    "            \n",
    "            if iter % 1000 == 0:\n",
    "                print iter, \"total_loss\", total_loss, \"W\", W.eval(), \"b\", b.eval()\n",
    "                \n",
    "            trained_W = W.eval()\n",
    "            trained_b = b.eval()"
   ]
  },
  {
   "cell_type": "code",
   "execution_count": 5,
   "metadata": {},
   "outputs": [
    {
     "data": {
      "text/plain": [
       "<matplotlib.text.Text at 0x1182c3590>"
      ]
     },
     "execution_count": 5,
     "metadata": {},
     "output_type": "execute_result"
    },
    {
     "data": {
      "image/png": "[encoded data removed]",
      "text/plain": [
       "<matplotlib.figure.Figure at 0x10e1b7f10>"
      ]
     },
     "metadata": {},
     "output_type": "display_data"
    }
   ],
   "source": [
    "x1,y1 = draw_line(n=40, xstart=0, xend=16, m=trained_W[0][0], c=trained_b[0])\n",
    "\n",
    "plt.figure()\n",
    "plt.axis([0,15,0,16])\n",
    "plt.plot(x1,y1)\n",
    "plt.xlabel('x')\n",
    "plt.ylabel('y')\n",
    "plt.plot(X_data, y_data,'.')\n",
    "plt.title('Linear regression')"
   ]
  },
  {
   "cell_type": "code",
   "execution_count": null,
   "metadata": {
    "collapsed": true
   },
   "outputs": [],
   "source": []
  }
 ],
 "metadata": {
  "kernelspec": {
   "display_name": "Python 2",
   "language": "python",
   "name": "python2"
  },
  "language_info": {
   "codemirror_mode": {
    "name": "ipython",
    "version": 2
   },
   "file_extension": ".py",
   "mimetype": "text/x-python",
   "name": "python",
   "nbconvert_exporter": "python",
   "pygments_lexer": "ipython2",
   "version": "2.7.13"
  }
 },
 "nbformat": 4,
 "nbformat_minor": 1
}
