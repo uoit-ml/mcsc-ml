{
 "cells": [
  {
   "cell_type": "code",
   "execution_count": 1,
   "metadata": {},
   "outputs": [
    {
     "name": "stderr",
     "output_type": "stream",
     "text": [
      "Using TensorFlow backend.\n"
     ]
    }
   ],
   "source": [
    "import tensorflow as tf\n",
    "from keras import backend as K\n",
    "from keras.models import Sequential\n",
    "from keras.layers import Dense\n",
    "from keras.layers import Input\n",
    "from keras import optimizers\n",
    "from keras.objectives import categorical_crossentropy\n",
    "import numpy as np\n",
    "import matplotlib.pyplot as plt\n",
    "%matplotlib inline"
   ]
  },
  {
   "cell_type": "markdown",
   "metadata": {},
   "source": [
    "## Create Data"
   ]
  },
  {
   "cell_type": "code",
   "execution_count": 2,
   "metadata": {
    "collapsed": true
   },
   "outputs": [],
   "source": [
    "def gen_1d_regression_data(n=40, xstart=5, xend=10, m=.5, c=2, mu=0, sigma=.4):\n",
    "    x = np.linspace(xstart, xend, n)\n",
    "    y = m * x + c + np.random.normal(mu, sigma, n)\n",
    "    return x, y\n",
    "\n",
    "def draw_line(n=40, xstart=5, xend=10, m=.5, c=2,):\n",
    "    x = np.linspace(xstart, xend, n)\n",
    "    y = m * x + c\n",
    "    return x, y "
   ]
  },
  {
   "cell_type": "code",
   "execution_count": 3,
   "metadata": {},
   "outputs": [
    {
     "data": {
      "text/plain": [
       "<matplotlib.collections.PathCollection at 0x1249743d0>"
      ]
     },
     "execution_count": 3,
     "metadata": {},
     "output_type": "execute_result"
    },
    {
     "data": {
      "image/png": "[encoded data removed]",
      "text/plain": [
       "<matplotlib.figure.Figure at 0x1215aed50>"
      ]
     },
     "metadata": {},
     "output_type": "display_data"
    }
   ],
   "source": [
    "np.random.seed(0)\n",
    "\n",
    "n = 200\n",
    "X_data, y_data = gen_1d_regression_data(n=n, sigma=.78, xstart=3, xend=13)\n",
    "\n",
    "plt.title('Data')\n",
    "plt.xlabel('x')\n",
    "plt.ylabel('y')\n",
    "plt.axis([0,15,0,16])\n",
    "plt.scatter(X_data, y_data)"
   ]
  },
  {
   "cell_type": "code",
   "execution_count": 11,
   "metadata": {
    "collapsed": true
   },
   "outputs": [],
   "source": [
    "def linear_regression_vector_calculus(x, y):\n",
    "    X = np.ones([len(x), 2])\n",
    "    X[:,1] = x\n",
    "    Y = np.ones([len(y), 1])\n",
    "    Y[:,0] = y\n",
    "\n",
    "    XtX = np.dot(X.T, X)\n",
    "    XtY = np.dot(X.T, Y)\n",
    "\n",
    "    theta = np.dot(np.linalg.inv(XtX), XtY)\n",
    "    return theta[0], theta[1]"
   ]
  },
  {
   "cell_type": "code",
   "execution_count": 4,
   "metadata": {
    "collapsed": true
   },
   "outputs": [],
   "source": [
    "# Shuffle the training set\n",
    "def randomize(dataset, labels):\n",
    "    permutation = np.random.permutation(labels.shape[0])\n",
    "    shuffled_dataset = dataset[permutation]\n",
    "    shuffled_labels = labels[permutation]\n",
    "    \n",
    "    return shuffled_dataset, shuffled_labels"
   ]
  },
  {
   "cell_type": "code",
   "execution_count": 5,
   "metadata": {
    "collapsed": true
   },
   "outputs": [],
   "source": [
    "# Randomize data\n",
    "dataset, labels = randomize(X_data, y_data)\n",
    "\n",
    "# 20% for testing\n",
    "x_train = dataset[0:160]\n",
    "y_train = labels[0:160]\n",
    "x_test  = dataset[160:200]\n",
    "y_test  = labels[160:200]"
   ]
  },
  {
   "cell_type": "markdown",
   "metadata": {},
   "source": [
    "## Using Vector Calculus"
   ]
  },
  {
   "cell_type": "code",
   "execution_count": 15,
   "metadata": {},
   "outputs": [
    {
     "data": {
      "text/plain": [
       "[<matplotlib.lines.Line2D at 0x122f70410>]"
      ]
     },
     "execution_count": 15,
     "metadata": {},
     "output_type": "execute_result"
    },
    {
     "data": {
      "image/png": "[encoded data removed]",
      "text/plain": [
       "<matplotlib.figure.Figure at 0x12275e190>"
      ]
     },
     "metadata": {},
     "output_type": "display_data"
    }
   ],
   "source": [
    "t0, t1 = linear_regression_vector_calculus(x_train, y_train)\n",
    "y_estimate = t0 + t1*x_test\n",
    "\n",
    "plt.title('Estimated Y vs. Computed Y')\n",
    "plt.text(2, 11, 'Using vector calculus')\n",
    "plt.text(2, 10, '$\\Theta$: (%f, %f)' % (t0, t1))\n",
    "plt.axis([0,20,0,12])\n",
    "plt.xlabel('x')\n",
    "plt.ylabel('y')\n",
    "plt.plot(x_test, y_test,'b.')\n",
    "plt.plot(x_test, y_estimate,'r')"
   ]
  },
  {
   "cell_type": "code",
   "execution_count": 16,
   "metadata": {},
   "outputs": [
    {
     "name": "stdout",
     "output_type": "stream",
     "text": [
      "('Total Test Error:', 0.0)\n"
     ]
    }
   ],
   "source": [
    "total_test_error = 0\n",
    "\n",
    "for i in range(len(y_estimate)):\n",
    "    error = y_test[i] - y_estimate[i]\n",
    "    #print(error)\n",
    "    total_test_error += error\n",
    "\n",
    "total_test_error = np.round(total_test_error/20)\n",
    "print('Total Test Error:', total_test_error)"
   ]
  },
  {
   "cell_type": "markdown",
   "metadata": {},
   "source": [
    "## Using SGD in Keras."
   ]
  },
  {
   "cell_type": "code",
   "execution_count": 6,
   "metadata": {
    "collapsed": true
   },
   "outputs": [],
   "source": [
    "def Linear_Regression():\n",
    "    # create model\n",
    "    model = Sequential()\n",
    "    model.add(Dense(1, input_shape=(1,)))\n",
    "    return model"
   ]
  },
  {
   "cell_type": "code",
   "execution_count": 7,
   "metadata": {
    "collapsed": true
   },
   "outputs": [],
   "source": [
    "model = Linear_Regression()"
   ]
  },
  {
   "cell_type": "code",
   "execution_count": 8,
   "metadata": {},
   "outputs": [
    {
     "name": "stdout",
     "output_type": "stream",
     "text": [
      "_________________________________________________________________\n",
      "Layer (type)                 Output Shape              Param #   \n",
      "=================================================================\n",
      "dense_1 (Dense)              (None, 1)                 2         \n",
      "=================================================================\n",
      "Total params: 2\n",
      "Trainable params: 2\n",
      "Non-trainable params: 0\n",
      "_________________________________________________________________\n"
     ]
    }
   ],
   "source": [
    "model.summary()"
   ]
  },
  {
   "cell_type": "code",
   "execution_count": 9,
   "metadata": {
    "collapsed": true
   },
   "outputs": [],
   "source": [
    "# Compile model\n",
    "sgd = optimizers.SGD(lr=0.005)\n",
    "model.compile(loss='mean_squared_error', optimizer=sgd)"
   ]
  },
  {
   "cell_type": "code",
   "execution_count": 10,
   "metadata": {},
   "outputs": [
    {
     "name": "stdout",
     "output_type": "stream",
     "text": [
      "Epoch 1/80\n",
      "160/160 [==============================] - 0s - loss: 3.1576     \n",
      "Epoch 2/80\n",
      "160/160 [==============================] - 0s - loss: 1.1732     \n",
      "Epoch 3/80\n",
      "160/160 [==============================] - 0s - loss: 1.1237     \n",
      "Epoch 4/80\n",
      "160/160 [==============================] - 0s - loss: 1.1627     \n",
      "Epoch 5/80\n",
      "160/160 [==============================] - 0s - loss: 1.1396     \n",
      "Epoch 6/80\n",
      "160/160 [==============================] - 0s - loss: 1.1087     \n",
      "Epoch 7/80\n",
      "160/160 [==============================] - 0s - loss: 1.1159     \n",
      "Epoch 8/80\n",
      "160/160 [==============================] - 0s - loss: 1.1270     \n",
      "Epoch 9/80\n",
      "160/160 [==============================] - 0s - loss: 1.1601     \n",
      "Epoch 10/80\n",
      "160/160 [==============================] - 0s - loss: 1.0891     \n",
      "Epoch 11/80\n",
      "160/160 [==============================] - 0s - loss: 1.0991     \n",
      "Epoch 12/80\n",
      "160/160 [==============================] - 0s - loss: 1.1044     \n",
      "Epoch 13/80\n",
      "160/160 [==============================] - 0s - loss: 1.1034     \n",
      "Epoch 14/80\n",
      "160/160 [==============================] - 0s - loss: 1.0748     \n",
      "Epoch 15/80\n",
      "160/160 [==============================] - 0s - loss: 1.0981     \n",
      "Epoch 16/80\n",
      "160/160 [==============================] - 0s - loss: 1.0815     \n",
      "Epoch 17/80\n",
      "160/160 [==============================] - 0s - loss: 1.0629     \n",
      "Epoch 18/80\n",
      "160/160 [==============================] - 0s - loss: 1.0791     \n",
      "Epoch 19/80\n",
      "160/160 [==============================] - 0s - loss: 1.0728     \n",
      "Epoch 20/80\n",
      "160/160 [==============================] - 0s - loss: 1.0692     \n",
      "Epoch 21/80\n",
      " 50/160 [========>.....................] - ETA: 0s - loss: 1.2409"
     ]
    },
    {
     "name": "stderr",
     "output_type": "stream",
     "text": [
      "/Users/faisal/anaconda/lib/python2.7/site-packages/keras/models.py:844: UserWarning: The `nb_epoch` argument in `fit` has been renamed `epochs`.\n",
      "  warnings.warn('The `nb_epoch` argument in `fit` '\n"
     ]
    },
    {
     "name": "stdout",
     "output_type": "stream",
     "text": [
      "160/160 [==============================] - 0s - loss: 1.0429     \n",
      "Epoch 22/80\n",
      "160/160 [==============================] - 0s - loss: 1.0424     \n",
      "Epoch 23/80\n",
      "160/160 [==============================] - 0s - loss: 1.0328     \n",
      "Epoch 24/80\n",
      "160/160 [==============================] - 0s - loss: 1.0830     \n",
      "Epoch 25/80\n",
      "160/160 [==============================] - 0s - loss: 1.0250     \n",
      "Epoch 26/80\n",
      "160/160 [==============================] - 0s - loss: 1.0465     \n",
      "Epoch 27/80\n",
      "160/160 [==============================] - 0s - loss: 1.0382     \n",
      "Epoch 28/80\n",
      "160/160 [==============================] - 0s - loss: 1.0301     \n",
      "Epoch 29/80\n",
      "160/160 [==============================] - 0s - loss: 1.0267     \n",
      "Epoch 30/80\n",
      "160/160 [==============================] - 0s - loss: 1.0976     \n",
      "Epoch 31/80\n",
      "160/160 [==============================] - 0s - loss: 1.0215     \n",
      "Epoch 32/80\n",
      "160/160 [==============================] - 0s - loss: 1.0144     \n",
      "Epoch 33/80\n",
      "160/160 [==============================] - 0s - loss: 0.9984     \n",
      "Epoch 34/80\n",
      "160/160 [==============================] - 0s - loss: 1.0006     \n",
      "Epoch 35/80\n",
      "160/160 [==============================] - 0s - loss: 0.9952     \n",
      "Epoch 36/80\n",
      "160/160 [==============================] - 0s - loss: 0.9861     \n",
      "Epoch 37/80\n",
      "160/160 [==============================] - 0s - loss: 0.9930     \n",
      "Epoch 38/80\n",
      "160/160 [==============================] - 0s - loss: 0.9912     \n",
      "Epoch 39/80\n",
      "160/160 [==============================] - 0s - loss: 0.9955     \n",
      "Epoch 40/80\n",
      "160/160 [==============================] - 0s - loss: 1.0323     \n",
      "Epoch 41/80\n",
      "160/160 [==============================] - 0s - loss: 0.9736     \n",
      "Epoch 42/80\n",
      "160/160 [==============================] - 0s - loss: 0.9798     \n",
      "Epoch 43/80\n",
      "160/160 [==============================] - 0s - loss: 0.9789     \n",
      "Epoch 44/80\n",
      "160/160 [==============================] - 0s - loss: 0.9977     \n",
      "Epoch 45/80\n",
      "160/160 [==============================] - 0s - loss: 0.9707     \n",
      "Epoch 46/80\n",
      "160/160 [==============================] - 0s - loss: 0.9908     \n",
      "Epoch 47/80\n",
      "160/160 [==============================] - 0s - loss: 0.9545     \n",
      "Epoch 48/80\n",
      "160/160 [==============================] - 0s - loss: 0.9685     \n",
      "Epoch 49/80\n",
      "160/160 [==============================] - 0s - loss: 0.9690     \n",
      "Epoch 50/80\n",
      "160/160 [==============================] - 0s - loss: 0.9544     \n",
      "Epoch 51/80\n",
      "160/160 [==============================] - 0s - loss: 0.9691     \n",
      "Epoch 52/80\n",
      "160/160 [==============================] - 0s - loss: 0.9531     \n",
      "Epoch 53/80\n",
      "160/160 [==============================] - 0s - loss: 0.9407     \n",
      "Epoch 54/80\n",
      "160/160 [==============================] - 0s - loss: 0.9322     \n",
      "Epoch 55/80\n",
      "160/160 [==============================] - 0s - loss: 0.9318     \n",
      "Epoch 56/80\n",
      "160/160 [==============================] - 0s - loss: 0.9345     \n",
      "Epoch 57/80\n",
      "160/160 [==============================] - 0s - loss: 0.9520     \n",
      "Epoch 58/80\n",
      "160/160 [==============================] - 0s - loss: 0.9243     \n",
      "Epoch 59/80\n",
      "160/160 [==============================] - 0s - loss: 0.9244     \n",
      "Epoch 60/80\n",
      "160/160 [==============================] - 0s - loss: 0.9851     \n",
      "Epoch 61/80\n",
      "160/160 [==============================] - 0s - loss: 0.9332     \n",
      "Epoch 62/80\n",
      "160/160 [==============================] - 0s - loss: 0.9161     \n",
      "Epoch 63/80\n",
      "160/160 [==============================] - 0s - loss: 0.9133     \n",
      "Epoch 64/80\n",
      "160/160 [==============================] - 0s - loss: 0.9026     \n",
      "Epoch 65/80\n",
      "160/160 [==============================] - 0s - loss: 0.9036     \n",
      "Epoch 66/80\n",
      "160/160 [==============================] - 0s - loss: 0.8977     \n",
      "Epoch 67/80\n",
      "160/160 [==============================] - 0s - loss: 0.8920     \n",
      "Epoch 68/80\n",
      "160/160 [==============================] - 0s - loss: 0.9094     \n",
      "Epoch 69/80\n",
      "160/160 [==============================] - 0s - loss: 0.8911     \n",
      "Epoch 70/80\n",
      "160/160 [==============================] - 0s - loss: 0.9007     \n",
      "Epoch 71/80\n",
      "160/160 [==============================] - 0s - loss: 0.9195     \n",
      "Epoch 72/80\n",
      "160/160 [==============================] - ETA: 0s - loss: 0.929 - 0s - loss: 0.8778     \n",
      "Epoch 73/80\n",
      "160/160 [==============================] - 0s - loss: 0.9423     \n",
      "Epoch 74/80\n",
      "160/160 [==============================] - 0s - loss: 0.8821     \n",
      "Epoch 75/80\n",
      "160/160 [==============================] - 0s - loss: 0.8825     \n",
      "Epoch 76/80\n",
      "160/160 [==============================] - 0s - loss: 0.8694     \n",
      "Epoch 77/80\n",
      "160/160 [==============================] - 0s - loss: 0.8712     \n",
      "Epoch 78/80\n",
      "160/160 [==============================] - 0s - loss: 0.8710     \n",
      "Epoch 79/80\n",
      "160/160 [==============================] - 0s - loss: 0.8654     \n",
      "Epoch 80/80\n",
      "160/160 [==============================] - 0s - loss: 0.8896     \n"
     ]
    },
    {
     "data": {
      "text/plain": [
       "<keras.callbacks.History at 0x124be1310>"
      ]
     },
     "execution_count": 10,
     "metadata": {},
     "output_type": "execute_result"
    }
   ],
   "source": [
    "model.fit(x_train, y_train, nb_epoch=80, batch_size=50, verbose=1, shuffle=True) "
   ]
  },
  {
   "cell_type": "code",
   "execution_count": 11,
   "metadata": {
    "collapsed": true
   },
   "outputs": [],
   "source": [
    "predictions = model.predict(x_test, batch_size=20, verbose=0)"
   ]
  },
  {
   "cell_type": "code",
   "execution_count": 12,
   "metadata": {},
   "outputs": [
    {
     "name": "stdout",
     "output_type": "stream",
     "text": [
      "('Total Test Error:', 0.60540084377251668)\n"
     ]
    }
   ],
   "source": [
    "total_test_error = 0\n",
    "\n",
    "for i in range(len(predictions)):\n",
    "    error = y_test[i] - predictions[i][0]\n",
    "    #print(error)\n",
    "    total_test_error += error\n",
    "\n",
    "total_test_error = total_test_error/20\n",
    "print('Total Test Error:', total_test_error)"
   ]
  },
  {
   "cell_type": "code",
   "execution_count": 13,
   "metadata": {},
   "outputs": [
    {
     "data": {
      "text/plain": [
       "[<matplotlib.lines.Line2D at 0x124c12490>]"
      ]
     },
     "execution_count": 13,
     "metadata": {},
     "output_type": "execute_result"
    },
    {
     "data": {
      "image/png": "[encoded data removed]",
      "text/plain": [
       "<matplotlib.figure.Figure at 0x124c12310>"
      ]
     },
     "metadata": {},
     "output_type": "display_data"
    }
   ],
   "source": [
    "plt.title('Estimated Y vs. Correct Y')\n",
    "plt.axis([0,20,0,12])\n",
    "plt.xlabel('x')\n",
    "plt.ylabel('y')\n",
    "plt.plot(x_test, y_test,'b.')\n",
    "plt.plot(x_test, predictions,'r')"
   ]
  },
  {
   "cell_type": "code",
   "execution_count": null,
   "metadata": {
    "collapsed": true
   },
   "outputs": [],
   "source": []
  }
 ],
 "metadata": {
  "kernelspec": {
   "display_name": "Python 2",
   "language": "python",
   "name": "python2"
  },
  "language_info": {
   "codemirror_mode": {
    "name": "ipython",
    "version": 2
   },
   "file_extension": ".py",
   "mimetype": "text/x-python",
   "name": "python",
   "nbconvert_exporter": "python",
   "pygments_lexer": "ipython2",
   "version": "2.7.13"
  }
 },
 "nbformat": 4,
 "nbformat_minor": 1
}
