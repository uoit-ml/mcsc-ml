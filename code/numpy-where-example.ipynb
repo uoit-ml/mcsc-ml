{
 "cells": [
  {
   "cell_type": "markdown",
   "metadata": {},
   "source": [
    "# Using numpy.where"
   ]
  },
  {
   "cell_type": "code",
   "execution_count": 1,
   "metadata": {
    "collapsed": true
   },
   "outputs": [],
   "source": [
    "import numpy as np"
   ]
  },
  {
   "cell_type": "code",
   "execution_count": 8,
   "metadata": {},
   "outputs": [
    {
     "name": "stdout",
     "output_type": "stream",
     "text": [
      "[ 0.53967805  0.71048441  0.22698006  0.38279461  0.42124248  0.2998491\n",
      "  0.7746211   0.37706856  0.94775371  0.73944839  0.93746644  0.97391212\n",
      "  0.24428158  0.80880094  0.80771647  0.10823134  0.94638797  0.15601562\n",
      "  0.80693944  0.1402074 ]\n"
     ]
    }
   ],
   "source": [
    "x = np.random.uniform(0,1,[20])\n",
    "print x"
   ]
  },
  {
   "cell_type": "code",
   "execution_count": 9,
   "metadata": {},
   "outputs": [],
   "source": [
    "print x[np.where(x >= .5)]"
   ]
  }
 ],
 "metadata": {
  "kernelspec": {
   "display_name": "Python 2",
   "language": "python",
   "name": "python2"
  },
  "language_info": {
   "codemirror_mode": {
    "name": "ipython",
    "version": 2
   },
   "file_extension": ".py",
   "mimetype": "text/x-python",
   "name": "python",
   "nbconvert_exporter": "python",
   "pygments_lexer": "ipython2",
   "version": "2.7.13"
  }
 },
 "nbformat": 4,
 "nbformat_minor": 1
}
