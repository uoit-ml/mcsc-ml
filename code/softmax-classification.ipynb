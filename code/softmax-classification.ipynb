{
 "cells": [
  {
   "cell_type": "code",
   "execution_count": 1,
   "metadata": {
    "collapsed": true
   },
   "outputs": [],
   "source": [
    "import numpy as np\n",
    "import matplotlib.pyplot as plt\n",
    "import matplotlib.cm as cm\n",
    "%matplotlib inline"
   ]
  },
  {
   "cell_type": "code",
   "execution_count": null,
   "metadata": {
    "collapsed": true
   },
   "outputs": [],
   "source": [
    "def sigm(x, th):\n",
    "    \"\"\"\n",
    "    Sigmoid function\n",
    "    \n",
    "    Parameters:\n",
    "    x -- N times M+1 design matrix.  N=1 is also valid.\n",
    "    th -- theta M+1 vector of paratmeters.\n",
    "    \n",
    "    Returns:\n",
    "    N-dimensional vector -- contains reponse of the sigmoid function specified by parameters th \n",
    "                            at locations specified by x\n",
    "    \"\"\"\n",
    "    return 1. / (1. + np.exp( - np.dot(x, th) ))\n",
    "\n",
    "def softmax(x, th):\n",
    "    \"\"\"\n",
    "    Softmax function\n",
    "    \n",
    "    Parameters:\n",
    "    x -- N times M+1 design matrix.  N=1 is also valid.\n",
    "    th -- M+1 times K vector of paratmeters.  K are the number of components\n",
    "\n",
    "    Returns\n",
    "    N times K dimensional vector -- contains reponse of the softmax function specified by parameters th \n",
    "                                    at locations specified by x\n",
    "    \"\"\"\n",
    "    N, _ = x.shape()\n",
    "    M, K = th.shape()\n",
    "    \n",
    "    for i in range(K):\n",
    "        sigm(x, th[:,i])\n",
    "    \n",
    "    "
   ]
  }
 ],
 "metadata": {
  "kernelspec": {
   "display_name": "Python 2",
   "language": "python",
   "name": "python2"
  },
  "language_info": {
   "codemirror_mode": {
    "name": "ipython",
    "version": 2
   },
   "file_extension": ".py",
   "mimetype": "text/x-python",
   "name": "python",
   "nbconvert_exporter": "python",
   "pygments_lexer": "ipython2",
   "version": "2.7.13"
  }
 },
 "nbformat": 4,
 "nbformat_minor": 0
}
